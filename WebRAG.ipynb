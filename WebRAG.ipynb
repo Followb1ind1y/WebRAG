{
 "cells": [
  {
   "cell_type": "markdown",
   "metadata": {},
   "source": [
    "# **WebRAG: A Retrieval-Augmented Generation (RAG) System for Web Content**"
   ]
  },
  {
   "cell_type": "markdown",
   "metadata": {},
   "source": [
    "## **Project Overview**\n",
    "\n",
    "WebRAG is designed to extract content from a given sitemap, recursively find all sub-pages of a target website, clean and store the content in a vector database, and use it in a Retrieval-Augmented Generation (RAG) pipeline powered by LangChain."
   ]
  },
  {
   "cell_type": "markdown",
   "metadata": {},
   "source": [
    "## **1. Web Crawling**\n",
    "\n",
    "Extract links from a sitemap using robots.txt or sitemap.xml."
   ]
  },
  {
   "cell_type": "code",
   "execution_count": null,
   "metadata": {},
   "outputs": [],
   "source": [
    "import requests\n",
    "import xml.etree.ElementTree as ET\n",
    "\n",
    "def get_sitemap_links(sitemap_url, filter_path=\"/doc/\"):\n",
    "    \"\"\"解析 `sitemap.xml` 并返回符合筛选条件的网页链接\"\"\"\n",
    "    try:\n",
    "        response = requests.get(sitemap_url, timeout=10)\n",
    "        if response.status_code != 200:\n",
    "            print(f\"⚠️ Failed to fetch sitemap: {sitemap_url}\")\n",
    "            return []\n",
    "\n",
    "        sitemap_xml = response.text\n",
    "        root = ET.fromstring(sitemap_xml)\n",
    "        namespaces = {\"ns\": \"http://www.sitemaps.org/schemas/sitemap/0.9\"}\n",
    "\n",
    "        # 获取所有链接\n",
    "        urls = [elem.text for elem in root.findall(\".//ns:loc\", namespaces)]\n",
    "        \n",
    "        # 只保留符合 `filter_path` 的链接\n",
    "        filtered_urls = [url for url in urls if filter_path in url]\n",
    "        \n",
    "        return filtered_urls\n",
    "    except Exception as e:\n",
    "        print(f\"⚠️ Error parsing sitemap {sitemap_url}: {e}\")\n",
    "        return []"
   ]
  },
  {
   "cell_type": "code",
   "execution_count": null,
   "metadata": {},
   "outputs": [
    {
     "data": {
      "text/plain": [
       "\n",
       "🔗 Found 79 Pages in Sitemap\n"
      ]
     },
     "metadata": {},
     "output_type": "display_data"
    }
   ],
   "source": [
    "sitemap_url = \"https://python.langchain.com/sitemap.xml\"\n",
    "filtered_pages = get_sitemap_links(sitemap_url, filter_path=\"https://python.langchain.com/docs/integrations/chat/\")\n",
    "\n",
    "print(f\"\\n🔗 Found {len(filtered_pages)} Pages in Sitemap\")"
   ]
  },
  {
   "cell_type": "markdown",
   "metadata": {},
   "source": [
    "## **2. Data Preprocessing**\n",
    "\n",
    "Clean and structure raw webpage data for efficient retrieval. Remove unnecessary elements (JS, CSS, ads) using `BeautifulSoup`. Use `LangChain` for intelligent chunking. Convert chunks into vector embeddings. Store vectors in `Pinecone` with metadata (page URL, chunk ID, etc.) for retrieval."
   ]
  },
  {
   "cell_type": "code",
   "execution_count": null,
   "metadata": {},
   "outputs": [
    {
     "data": {
      "text/plain": [
       "Traceback (most recent call last):\n",
       "  File \"/Library/Developer/CommandLineTools/Library/Frameworks/Python3.framework/Versions/3.9/lib/python3.9/getpass.py\", line 48, in unix_getpass\n",
       "    fd = os.open('/dev/tty', os.O_RDWR|os.O_NOCTTY)\n",
       "OSError: [Errno 6] Device not configured: '/dev/tty'\n",
       "\n",
       "During handling of the above exception, another exception occurred:\n",
       "\n",
       "Traceback (most recent call last):\n",
       "  File \"/Library/Developer/CommandLineTools/Library/Frameworks/Python3.framework/Versions/3.9/lib/python3.9/getpass.py\", line 59, in unix_getpass\n",
       "    fd = sys.stdin.fileno()\n",
       "io.UnsupportedOperation: fileno\n",
       "\n",
       "During handling of the above exception, another exception occurred:\n",
       "\n",
       "Traceback (most recent call last):\n",
       "  File \"/Users/zerenshen/.vscode/extensions/ms-python.python-2024.22.2-darwin-arm64/python_files/python_server.py\", line 133, in exec_user_input\n",
       "    retval = callable_(user_input, user_globals)\n",
       "  File \"<string>\", line 8, in <module>\n",
       "  File \"/Library/Developer/CommandLineTools/Library/Frameworks/Python3.framework/Versions/3.9/lib/python3.9/getpass.py\", line 62, in unix_getpass\n",
       "    passwd = fallback_getpass(prompt, stream)\n",
       "  File \"/Library/Developer/CommandLineTools/Library/Frameworks/Python3.framework/Versions/3.9/lib/python3.9/getpass.py\", line 126, in fallback_getpass\n",
       "    return _raw_input(prompt, stream)\n",
       "  File \"/Library/Developer/CommandLineTools/Library/Frameworks/Python3.framework/Versions/3.9/lib/python3.9/getpass.py\", line 148, in _raw_input\n",
       "    raise EOFError\n",
       "EOFError\n",
       "\n"
      ]
     },
     "metadata": {},
     "output_type": "display_data"
    }
   ],
   "source": [
    "import getpass\n",
    "import os\n",
    "import time\n",
    "\n",
    "from pinecone import Pinecone, ServerlessSpec\n",
    "\n",
    "if not os.getenv(\"PINECONE_API_KEY\"):\n",
    "    os.environ[\"PINECONE_API_KEY\"] = getpass.getpass(\"Enter your Pinecone API key: \")\n",
    "\n",
    "pinecone_api_key = os.environ.get(\"PINECONE_API_KEY\")\n",
    "\n",
    "pc = Pinecone(api_key=pinecone_api_key)"
   ]
  },
  {
   "cell_type": "markdown",
   "metadata": {},
   "source": []
  }
 ],
 "metadata": {
  "language_info": {
   "name": "python"
  }
 },
 "nbformat": 4,
 "nbformat_minor": 2
}
